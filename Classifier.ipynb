{
 "cells": [
  {
   "cell_type": "code",
   "execution_count": 1,
   "id": "d02d4243",
   "metadata": {},
   "outputs": [],
   "source": [
    "from fastbook import *\n",
    "from fastai.vision.widgets import *"
   ]
  },
  {
   "cell_type": "code",
   "execution_count": null,
   "id": "3ae12c69",
   "metadata": {},
   "outputs": [],
   "source": [
    ".__"
   ]
  },
  {
   "cell_type": "code",
   "execution_count": 2,
   "id": "95b1c03a",
   "metadata": {},
   "outputs": [],
   "source": [
    "btn_upload = widgets.FileUpload(multiple=False)"
   ]
  },
  {
   "cell_type": "code",
   "execution_count": 3,
   "id": "47446127",
   "metadata": {},
   "outputs": [],
   "source": [
    "out_pl = widgets.Output()"
   ]
  },
  {
   "cell_type": "code",
   "execution_count": 4,
   "id": "5a1f43bc",
   "metadata": {},
   "outputs": [],
   "source": [
    "def is_cat(x): return x[0].isupper()"
   ]
  },
  {
   "cell_type": "code",
   "execution_count": 5,
   "id": "46da51d2",
   "metadata": {},
   "outputs": [],
   "source": [
    "learn_inf = load_learner('cat-dog.pkl')"
   ]
  },
  {
   "cell_type": "code",
   "execution_count": 6,
   "id": "b675a6f4",
   "metadata": {},
   "outputs": [],
   "source": [
    "lbl_pred = widgets.Label()"
   ]
  },
  {
   "cell_type": "code",
   "execution_count": 7,
   "id": "9a840679",
   "metadata": {},
   "outputs": [],
   "source": [
    "def on_upload_classify(change):\n",
    "    img = PILImage.create(btn_upload.data[-1])\n",
    "    out_pl.clear_output()\n",
    "    with out_pl: display(img.to_thumb(512,512))\n",
    "    pred,pred_idx,probs = learn_inf.predict(img)\n",
    "    if pred == 'True':\n",
    "        prediction = 'Cat'\n",
    "    else:\n",
    "        prediction = 'Dog'\n",
    "    lbl_pred.value = f'Prediction: {prediction}; Probability: {probs[pred_idx]:.04f}'\n",
    "    btn_upload.value.clear()\n",
    "    btn_upload._counter = 1"
   ]
  },
  {
   "cell_type": "code",
   "execution_count": 8,
   "id": "af21be03",
   "metadata": {},
   "outputs": [],
   "source": [
    "btn_upload.observe(on_upload_classify, 'value')"
   ]
  },
  {
   "cell_type": "code",
   "execution_count": 9,
   "id": "a3e17670",
   "metadata": {},
   "outputs": [
    {
     "data": {
      "application/vnd.jupyter.widget-view+json": {
       "model_id": "d2145a45a56345baa7bfa936a8027a26",
       "version_major": 2,
       "version_minor": 0
      },
      "text/plain": [
       "VBox(children=(Label(value='Select your Image!'), FileUpload(value={}, description='Upload'), Output(), Label(…"
      ]
     },
     "metadata": {},
     "output_type": "display_data"
    },
    {
     "data": {
      "text/html": [],
      "text/plain": [
       "<IPython.core.display.HTML object>"
      ]
     },
     "metadata": {},
     "output_type": "display_data"
    },
    {
     "name": "stderr",
     "output_type": "stream",
     "text": [
      "/Users/sanatsaha96/development/anaconda3/envs/env_python_38/lib/python3.8/site-packages/torch/nn/functional.py:718: UserWarning: Named tensors and all their associated APIs are an experimental feature and subject to change. Please do not use them for anything important until they are released as stable. (Triggered internally at  ../c10/core/TensorImpl.h:1156.)\n",
      "  return torch.max_pool2d(input, kernel_size, stride, padding, dilation, ceil_mode)\n"
     ]
    }
   ],
   "source": [
    "VBox([widgets.Label('Select your Image!'), \n",
    "      btn_upload, out_pl, lbl_pred])"
   ]
  }
 ],
 "metadata": {
  "kernelspec": {
   "display_name": "Python 3",
   "language": "python",
   "name": "python3"
  },
  "language_info": {
   "codemirror_mode": {
    "name": "ipython",
    "version": 3
   },
   "file_extension": ".py",
   "mimetype": "text/x-python",
   "name": "python",
   "nbconvert_exporter": "python",
   "pygments_lexer": "ipython3",
   "version": "3.8.10"
  }
 },
 "nbformat": 4,
 "nbformat_minor": 5
}
